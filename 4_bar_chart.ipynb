{
  "nbformat": 4,
  "nbformat_minor": 0,
  "metadata": {
    "colab": {
      "name": "4_bar_chart.ipynb",
      "provenance": []
    },
    "kernelspec": {
      "name": "python3",
      "display_name": "Python 3"
    },
    "language_info": {
      "name": "python"
    }
  },
  "cells": [
    {
      "cell_type": "code",
      "metadata": {
        "id": "9fRTye6TYF6y"
      },
      "source": [
        "%matplotlib inline\n",
        "import matplotlib.pyplot as plt\n",
        "import numpy as np"
      ],
      "execution_count": 1,
      "outputs": []
    },
    {
      "cell_type": "code",
      "metadata": {
        "id": "-8ttl60YYOUF"
      },
      "source": [
        "#Simple bar chart showing revenues of major US tech companies\n",
        "company=['GOOGL','AMZN','MSFT','FB']\n",
        "revenue=[90,136,89,27]\n",
        "profit=[40,2,34,12]"
      ],
      "execution_count": 2,
      "outputs": []
    },
    {
      "cell_type": "code",
      "metadata": {
        "colab": {
          "base_uri": "https://localhost:8080/"
        },
        "id": "Jw4CbPg0YOY2",
        "outputId": "8ad1dd8a-a88e-4d64-8bcf-6c8ff42703fa"
      },
      "source": [
        "xpos = np.arange(len(company))\n",
        "xpos"
      ],
      "execution_count": 3,
      "outputs": [
        {
          "output_type": "execute_result",
          "data": {
            "text/plain": [
              "array([0, 1, 2, 3])"
            ]
          },
          "metadata": {},
          "execution_count": 3
        }
      ]
    },
    {
      "cell_type": "code",
      "metadata": {
        "colab": {
          "base_uri": "https://localhost:8080/"
        },
        "id": "ixly7i3bYOdY",
        "outputId": "7d1c521d-3917-489c-f47d-ef47084e8e5e"
      },
      "source": [
        "ypos = np.arange(len(company))\n",
        "ypos"
      ],
      "execution_count": 4,
      "outputs": [
        {
          "output_type": "execute_result",
          "data": {
            "text/plain": [
              "array([0, 1, 2, 3])"
            ]
          },
          "metadata": {},
          "execution_count": 4
        }
      ]
    },
    {
      "cell_type": "code",
      "metadata": {
        "colab": {
          "base_uri": "https://localhost:8080/",
          "height": 282
        },
        "id": "GuaDY3GnYOfZ",
        "outputId": "357bdfb7-79bb-4cec-a036-c80c2895f3f7"
      },
      "source": [
        "plt.bar(xpos,revenue)"
      ],
      "execution_count": 5,
      "outputs": [
        {
          "output_type": "execute_result",
          "data": {
            "text/plain": [
              "<BarContainer object of 4 artists>"
            ]
          },
          "metadata": {},
          "execution_count": 5
        },
        {
          "output_type": "display_data",
          "data": {
            "image/png": "[encoded data removed]",
            "text/plain": [
              "<Figure size 432x288 with 1 Axes>"
            ]
          },
          "metadata": {
            "needs_background": "light"
          }
        }
      ]
    },
    {
      "cell_type": "code",
      "metadata": {
        "colab": {
          "base_uri": "https://localhost:8080/",
          "height": 282
        },
        "id": "tna4G1KiYXUu",
        "outputId": "8ef6ad32-f8ee-4950-ee27-c31f384dd140"
      },
      "source": [
        "plt.xticks(xpos,company)\n",
        "plt.bar(xpos,revenue)"
      ],
      "execution_count": 6,
      "outputs": [
        {
          "output_type": "execute_result",
          "data": {
            "text/plain": [
              "<BarContainer object of 4 artists>"
            ]
          },
          "metadata": {},
          "execution_count": 6
        },
        {
          "output_type": "display_data",
          "data": {
            "image/png": "[encoded data removed]",
            "text/plain": [
              "<Figure size 432x288 with 1 Axes>"
            ]
          },
          "metadata": {
            "needs_background": "light"
          }
        }
      ]
    },
    {
      "cell_type": "code",
      "metadata": {
        "colab": {
          "base_uri": "https://localhost:8080/",
          "height": 298
        },
        "id": "CA7BR_FbYXW1",
        "outputId": "8b8904d2-0f06-4c09-f6a6-566eb4f9d515"
      },
      "source": [
        "plt.xticks(xpos,company)\n",
        "plt.ylabel(\"Revenue(Bln)\")\n",
        "plt.title('US Technology Stocks')\n",
        "plt.bar(xpos,revenue)"
      ],
      "execution_count": 7,
      "outputs": [
        {
          "output_type": "execute_result",
          "data": {
            "text/plain": [
              "<BarContainer object of 4 artists>"
            ]
          },
          "metadata": {},
          "execution_count": 7
        },
        {
          "output_type": "display_data",
          "data": {
            "image/png": "[encoded data removed]",
            "text/plain": [
              "<Figure size 432x288 with 1 Axes>"
            ]
          },
          "metadata": {
            "needs_background": "light"
          }
        }
      ]
    },
    {
      "cell_type": "code",
      "metadata": {
        "colab": {
          "base_uri": "https://localhost:8080/",
          "height": 298
        },
        "id": "MZYRtfw9YOlH",
        "outputId": "f92e6740-5d63-41ac-ef2f-e61c521f5ade"
      },
      "source": [
        "plt.bar(xpos,revenue, label=\"Revenue\")\n",
        "\n",
        "plt.xticks(xpos,company)\n",
        "plt.ylabel(\"Revenue(Bln)\")\n",
        "plt.title('US Technology Stocks')\n",
        "plt.legend()"
      ],
      "execution_count": 8,
      "outputs": [
        {
          "output_type": "execute_result",
          "data": {
            "text/plain": [
              "<matplotlib.legend.Legend at 0x7f0310917890>"
            ]
          },
          "metadata": {},
          "execution_count": 8
        },
        {
          "output_type": "display_data",
          "data": {
            "image/png": "[encoded data removed]",
            "text/plain": [
              "<Figure size 432x288 with 1 Axes>"
            ]
          },
          "metadata": {
            "needs_background": "light"
          }
        }
      ]
    },
    {
      "cell_type": "code",
      "metadata": {
        "colab": {
          "base_uri": "https://localhost:8080/",
          "height": 298
        },
        "id": "TNZIqkh5YOm9",
        "outputId": "08461436-6098-42db-d8a6-89fd61dfdf76"
      },
      "source": [
        "#Multiple Bars showing revenue and profit of major US tech companies\n",
        "plt.bar(xpos,revenue, label=\"Revenue\")\n",
        "plt.bar(xpos,profit, label=\"profit\")\n",
        "plt.xticks(xpos,company)\n",
        "plt.ylabel(\"Revenue(Bln)\")\n",
        "plt.title('US Technology Stocks')\n",
        "plt.legend()"
      ],
      "execution_count": 9,
      "outputs": [
        {
          "output_type": "execute_result",
          "data": {
            "text/plain": [
              "<matplotlib.legend.Legend at 0x7f031080b890>"
            ]
          },
          "metadata": {},
          "execution_count": 9
        },
        {
          "output_type": "display_data",
          "data": {
            "image/png": "[encoded data removed]",
            "text/plain": [
              "<Figure size 432x288 with 1 Axes>"
            ]
          },
          "metadata": {
            "needs_background": "light"
          }
        }
      ]
    },
    {
      "cell_type": "code",
      "metadata": {
        "colab": {
          "base_uri": "https://localhost:8080/",
          "height": 298
        },
        "id": "49eljd1eYOpE",
        "outputId": "f46c9e5f-3b89-4617-a37b-d772f1b97478"
      },
      "source": [
        "plt.bar(xpos-0.2,revenue, width=0.4, label=\"Revenue\")\n",
        "plt.bar(xpos+0.2,profit, width=0.4,label=\"Profit\")\n",
        "\n",
        "plt.xticks(xpos,company)\n",
        "plt.ylabel(\"Revenue(Bln)\")\n",
        "plt.title('US Technology Stocks')\n",
        "plt.legend()"
      ],
      "execution_count": 10,
      "outputs": [
        {
          "output_type": "execute_result",
          "data": {
            "text/plain": [
              "<matplotlib.legend.Legend at 0x7f03107c0690>"
            ]
          },
          "metadata": {},
          "execution_count": 10
        },
        {
          "output_type": "display_data",
          "data": {
            "image/png": "[encoded data removed]",
            "text/plain": [
              "<Figure size 432x288 with 1 Axes>"
            ]
          },
          "metadata": {
            "needs_background": "light"
          }
        }
      ]
    },
    {
      "cell_type": "code",
      "metadata": {
        "colab": {
          "base_uri": "https://localhost:8080/",
          "height": 298
        },
        "id": "oi0f9l_MYk1O",
        "outputId": "d735caaa-b25e-4b55-c8b7-6149a1107727"
      },
      "source": [
        "#Horizontal bar chart using barh function\n",
        "plt.barh(xpos,revenue, label=\"Revenue\")\n",
        "\n",
        "plt.yticks(xpos,company)\n",
        "plt.ylabel(\"Revenue(Bln)\")\n",
        "plt.title('US Technolog Stocks')\n",
        "plt.legend()"
      ],
      "execution_count": 11,
      "outputs": [
        {
          "output_type": "execute_result",
          "data": {
            "text/plain": [
              "<matplotlib.legend.Legend at 0x7f03106f5250>"
            ]
          },
          "metadata": {},
          "execution_count": 11
        },
        {
          "output_type": "display_data",
          "data": {
            "image/png": "[encoded data removed]",
            "text/plain": [
              "<Figure size 432x288 with 1 Axes>"
            ]
          },
          "metadata": {
            "needs_background": "light"
          }
        }
      ]
    },
    {
      "cell_type": "code",
      "metadata": {
        "colab": {
          "base_uri": "https://localhost:8080/",
          "height": 298
        },
        "id": "-yyX8z6zYk6E",
        "outputId": "f3426305-d969-47f3-d964-d8df9abc5d6b"
      },
      "source": [
        "plt.barh(ypos-0.2,revenue,label=\"Revenue\")\n",
        "plt.barh(ypos+0.2,profit,label=\"Profit\")\n",
        "\n",
        "plt.yticks(ypos,company)\n",
        "plt.title('US Technology Stocks')\n",
        "plt.ylabel(\"Revenue(Bln)\")\n",
        "plt.legend()"
      ],
      "execution_count": 12,
      "outputs": [
        {
          "output_type": "execute_result",
          "data": {
            "text/plain": [
              "<matplotlib.legend.Legend at 0x7f03106e5a50>"
            ]
          },
          "metadata": {},
          "execution_count": 12
        },
        {
          "output_type": "display_data",
          "data": {
            "image/png": "[encoded data removed]",
            "text/plain": [
              "<Figure size 432x288 with 1 Axes>"
            ]
          },
          "metadata": {
            "needs_background": "light"
          }
        }
      ]
    }
  ]
}